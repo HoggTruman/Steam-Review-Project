{
 "cells": [
  {
   "cell_type": "markdown",
   "id": "2f61a839",
   "metadata": {},
   "source": [
    "# Steam Review Analysis\n",
    "\n",
    "Let's start by importing some libraries we will be making use of"
   ]
  },
  {
   "cell_type": "code",
   "execution_count": 1,
   "id": "b3c8ccd0",
   "metadata": {},
   "outputs": [],
   "source": [
    "import pandas as pd\n",
    "import numpy as np\n",
    "import requests"
   ]
  },
  {
   "cell_type": "code",
   "execution_count": 2,
   "id": "dadadbec",
   "metadata": {},
   "outputs": [],
   "source": [
    "# For cleaner printing of DataFrames\n",
    "pd.set_option('display.max_colwidth', 10)"
   ]
  },
  {
   "cell_type": "markdown",
   "id": "561e759d",
   "metadata": {},
   "source": [
    "### Obtaining the Data\n",
    "Here we have a function to gather steam reviews\n",
    "\n",
    "*Each call returns a json list with data for up to 100 reviews and a 'cursor' attribute value. When used as a parameter in the next call, it indicates the start point so that we can fetch the next set of reviews*\n",
    "\n",
    "Input:\n",
    "* ***appid*** : The unique integer ID of the application we want reviews for\n",
    "* ***num_reviews*** : The number of reviews to fetch \n",
    "\n",
    "Return:\n",
    "* A list of dictionaries containing the reviews\n"
   ]
  },
  {
   "cell_type": "code",
   "execution_count": 3,
   "id": "3d480e9b",
   "metadata": {},
   "outputs": [],
   "source": [
    "def get_reviews(appid: int, num_reviews: int):\n",
    "    base_url = \"https://store.steampowered.com/appreviews/\" + str(appid)\n",
    "    params = {'json': 1,\n",
    "              'filter': 'recent',\n",
    "              'language': 'english',\n",
    "              'cursor': '*',\n",
    "              'purchase_type': 'all',\n",
    "              'num_per_page': min(100, num_reviews)\n",
    "              }\n",
    "    reviews = []\n",
    "\n",
    "    while num_reviews > 0:\n",
    "        response = requests.get(base_url, params=params).json()\n",
    "        reviews += response['reviews']\n",
    "        num_reviews -= response['query_summary']['num_reviews']\n",
    "\n",
    "        params['cursor'] = response['cursor']  # change the cursor parameter to load the next 100 reviews\n",
    "        params['num_per_page'] = min(100, num_reviews)\n",
    "\n",
    "        if response['query_summary']['num_reviews'] < 100: break\n",
    "\n",
    "    return reviews"
   ]
  },
  {
   "cell_type": "markdown",
   "id": "32946858",
   "metadata": {},
   "source": [
    "## Loading the data into a DataFrame\n",
    "\n",
    "The data we get back is nested awkwardly so I wrote a short function which flattens it and creates a DataFrame from it.\n",
    "\n",
    "Input:\n",
    "* **reviews** : A list of review dictionaries as obtained from the *get_reviews()* function\n",
    "\n",
    "Return:\n",
    "* A Pandas DataFrame containing the review data"
   ]
  },
  {
   "cell_type": "code",
   "execution_count": 4,
   "id": "e85ba887",
   "metadata": {},
   "outputs": [],
   "source": [
    "def reviews_to_df(reviews: list):\n",
    "    df = pd.json_normalize(reviews)\n",
    "    df.columns = df.columns.str.replace('author.', '', regex=False)\n",
    "    return df"
   ]
  },
  {
   "cell_type": "markdown",
   "id": "d3911066",
   "metadata": {},
   "source": [
    "### Note:\n",
    "Obtaining review data with `get_reviews()` can take a considerable amount of time for a large number of reviews, since we have to loop through a long sequence of API calls.\n",
    "\n",
    "To save time, I would strongly recommend making a local copy of the data to load in."
   ]
  },
  {
   "cell_type": "markdown",
   "id": "6a30fa8d",
   "metadata": {},
   "source": [
    "## Example"
   ]
  },
  {
   "cell_type": "code",
   "execution_count": 5,
   "id": "19469b46",
   "metadata": {},
   "outputs": [
    {
     "data": {
      "text/html": [
       "<div>\n",
       "<style scoped>\n",
       "    .dataframe tbody tr th:only-of-type {\n",
       "        vertical-align: middle;\n",
       "    }\n",
       "\n",
       "    .dataframe tbody tr th {\n",
       "        vertical-align: top;\n",
       "    }\n",
       "\n",
       "    .dataframe thead th {\n",
       "        text-align: right;\n",
       "    }\n",
       "</style>\n",
       "<table border=\"1\" class=\"dataframe\">\n",
       "  <thead>\n",
       "    <tr style=\"text-align: right;\">\n",
       "      <th></th>\n",
       "      <th>recommendationid</th>\n",
       "      <th>language</th>\n",
       "      <th>review</th>\n",
       "      <th>timestamp_created</th>\n",
       "      <th>timestamp_updated</th>\n",
       "      <th>voted_up</th>\n",
       "      <th>votes_up</th>\n",
       "      <th>votes_funny</th>\n",
       "      <th>weighted_vote_score</th>\n",
       "      <th>comment_count</th>\n",
       "      <th>steam_purchase</th>\n",
       "      <th>received_for_free</th>\n",
       "      <th>written_during_early_access</th>\n",
       "      <th>steamid</th>\n",
       "      <th>num_games_owned</th>\n",
       "      <th>num_reviews</th>\n",
       "      <th>playtime_forever</th>\n",
       "      <th>playtime_last_two_weeks</th>\n",
       "      <th>playtime_at_review</th>\n",
       "      <th>last_played</th>\n",
       "    </tr>\n",
       "  </thead>\n",
       "  <tbody>\n",
       "    <tr>\n",
       "      <th>0</th>\n",
       "      <td>117682778</td>\n",
       "      <td>english</td>\n",
       "      <td></td>\n",
       "      <td>165627...</td>\n",
       "      <td>165627...</td>\n",
       "      <td>True</td>\n",
       "      <td>0</td>\n",
       "      <td>0</td>\n",
       "      <td>0.0</td>\n",
       "      <td>0</td>\n",
       "      <td>True</td>\n",
       "      <td>False</td>\n",
       "      <td>False</td>\n",
       "      <td>765611...</td>\n",
       "      <td>112</td>\n",
       "      <td>2</td>\n",
       "      <td>488</td>\n",
       "      <td>10</td>\n",
       "      <td>480</td>\n",
       "      <td>165627...</td>\n",
       "    </tr>\n",
       "    <tr>\n",
       "      <th>1</th>\n",
       "      <td>117682711</td>\n",
       "      <td>english</td>\n",
       "      <td>Extrem...</td>\n",
       "      <td>165627...</td>\n",
       "      <td>165627...</td>\n",
       "      <td>True</td>\n",
       "      <td>0</td>\n",
       "      <td>0</td>\n",
       "      <td>0.0</td>\n",
       "      <td>0</td>\n",
       "      <td>True</td>\n",
       "      <td>False</td>\n",
       "      <td>False</td>\n",
       "      <td>765611...</td>\n",
       "      <td>24</td>\n",
       "      <td>2</td>\n",
       "      <td>469</td>\n",
       "      <td>469</td>\n",
       "      <td>469</td>\n",
       "      <td>165627...</td>\n",
       "    </tr>\n",
       "    <tr>\n",
       "      <th>2</th>\n",
       "      <td>117679999</td>\n",
       "      <td>english</td>\n",
       "      <td>One of...</td>\n",
       "      <td>165627...</td>\n",
       "      <td>165627...</td>\n",
       "      <td>True</td>\n",
       "      <td>0</td>\n",
       "      <td>0</td>\n",
       "      <td>0.0</td>\n",
       "      <td>0</td>\n",
       "      <td>True</td>\n",
       "      <td>False</td>\n",
       "      <td>False</td>\n",
       "      <td>765611...</td>\n",
       "      <td>90</td>\n",
       "      <td>2</td>\n",
       "      <td>220</td>\n",
       "      <td>220</td>\n",
       "      <td>220</td>\n",
       "      <td>165627...</td>\n",
       "    </tr>\n",
       "    <tr>\n",
       "      <th>3</th>\n",
       "      <td>117679356</td>\n",
       "      <td>english</td>\n",
       "      <td>the ca...</td>\n",
       "      <td>165627...</td>\n",
       "      <td>165627...</td>\n",
       "      <td>True</td>\n",
       "      <td>0</td>\n",
       "      <td>0</td>\n",
       "      <td>0.0</td>\n",
       "      <td>0</td>\n",
       "      <td>True</td>\n",
       "      <td>False</td>\n",
       "      <td>False</td>\n",
       "      <td>765611...</td>\n",
       "      <td>21</td>\n",
       "      <td>11</td>\n",
       "      <td>201</td>\n",
       "      <td>201</td>\n",
       "      <td>201</td>\n",
       "      <td>165627...</td>\n",
       "    </tr>\n",
       "    <tr>\n",
       "      <th>4</th>\n",
       "      <td>117679112</td>\n",
       "      <td>english</td>\n",
       "      <td>This g...</td>\n",
       "      <td>165627...</td>\n",
       "      <td>165627...</td>\n",
       "      <td>True</td>\n",
       "      <td>0</td>\n",
       "      <td>0</td>\n",
       "      <td>0.0</td>\n",
       "      <td>0</td>\n",
       "      <td>True</td>\n",
       "      <td>False</td>\n",
       "      <td>False</td>\n",
       "      <td>765611...</td>\n",
       "      <td>7</td>\n",
       "      <td>3</td>\n",
       "      <td>172</td>\n",
       "      <td>113</td>\n",
       "      <td>172</td>\n",
       "      <td>165627...</td>\n",
       "    </tr>\n",
       "  </tbody>\n",
       "</table>\n",
       "</div>"
      ],
      "text/plain": [
       "  recommendationid language     review  timestamp_created  timestamp_updated  \\\n",
       "0  117682778        english             165627...          165627...           \n",
       "1  117682711        english  Extrem...  165627...          165627...           \n",
       "2  117679999        english  One of...  165627...          165627...           \n",
       "3  117679356        english  the ca...  165627...          165627...           \n",
       "4  117679112        english  This g...  165627...          165627...           \n",
       "\n",
       "   voted_up  votes_up  votes_funny  weighted_vote_score  comment_count  \\\n",
       "0      True         0          0          0.0                    0       \n",
       "1      True         0          0          0.0                    0       \n",
       "2      True         0          0          0.0                    0       \n",
       "3      True         0          0          0.0                    0       \n",
       "4      True         0          0          0.0                    0       \n",
       "\n",
       "   steam_purchase  received_for_free  written_during_early_access    steamid  \\\n",
       "0       True           False              False                    765611...   \n",
       "1       True           False              False                    765611...   \n",
       "2       True           False              False                    765611...   \n",
       "3       True           False              False                    765611...   \n",
       "4       True           False              False                    765611...   \n",
       "\n",
       "   num_games_owned  num_reviews  playtime_forever  playtime_last_two_weeks  \\\n",
       "0        112                2          488                10                 \n",
       "1         24                2          469               469                 \n",
       "2         90                2          220               220                 \n",
       "3         21               11          201               201                 \n",
       "4          7                3          172               113                 \n",
       "\n",
       "   playtime_at_review  last_played  \n",
       "0        480           165627...    \n",
       "1        469           165627...    \n",
       "2        220           165627...    \n",
       "3        201           165627...    \n",
       "4        172           165627...    "
      ]
     },
     "execution_count": 5,
     "metadata": {},
     "output_type": "execute_result"
    }
   ],
   "source": [
    "example_reviews = get_reviews(400, 20)\n",
    "example_df = reviews_to_df(example_reviews)\n",
    "example_df['weighted_vote_score'] = example_df['weighted_vote_score'].apply(float) # prevents issues with type conversion\n",
    "example_df.to_feather(path='./data/example/example_reviews.feather')\n",
    "\n",
    "example_df.head()"
   ]
  },
  {
   "cell_type": "markdown",
   "id": "fbdf2290",
   "metadata": {},
   "source": [
    "## How has the balance of positive/negative changed since the release of Elden Ring?\n",
    "\n",
    "The main dataset I will be analysing contains all the English 'Elden Ring' reviews created up to 03/06/2022. This is about 215,000 records\n",
    "\n",
    "First, we load the data and keep what is relavent for the question"
   ]
  },
  {
   "cell_type": "code",
   "execution_count": 6,
   "id": "79320997",
   "metadata": {},
   "outputs": [
    {
     "data": {
      "text/html": [
       "<div>\n",
       "<style scoped>\n",
       "    .dataframe tbody tr th:only-of-type {\n",
       "        vertical-align: middle;\n",
       "    }\n",
       "\n",
       "    .dataframe tbody tr th {\n",
       "        vertical-align: top;\n",
       "    }\n",
       "\n",
       "    .dataframe thead th {\n",
       "        text-align: right;\n",
       "    }\n",
       "</style>\n",
       "<table border=\"1\" class=\"dataframe\">\n",
       "  <thead>\n",
       "    <tr style=\"text-align: right;\">\n",
       "      <th></th>\n",
       "      <th>timestamp_updated</th>\n",
       "      <th>voted_up</th>\n",
       "    </tr>\n",
       "  </thead>\n",
       "  <tbody>\n",
       "    <tr>\n",
       "      <th>0</th>\n",
       "      <td>2022-06-03</td>\n",
       "      <td>True</td>\n",
       "    </tr>\n",
       "    <tr>\n",
       "      <th>1</th>\n",
       "      <td>2022-06-03</td>\n",
       "      <td>True</td>\n",
       "    </tr>\n",
       "    <tr>\n",
       "      <th>2</th>\n",
       "      <td>2022-06-03</td>\n",
       "      <td>True</td>\n",
       "    </tr>\n",
       "    <tr>\n",
       "      <th>3</th>\n",
       "      <td>2022-06-03</td>\n",
       "      <td>True</td>\n",
       "    </tr>\n",
       "    <tr>\n",
       "      <th>4</th>\n",
       "      <td>2022-06-03</td>\n",
       "      <td>False</td>\n",
       "    </tr>\n",
       "    <tr>\n",
       "      <th>...</th>\n",
       "      <td>...</td>\n",
       "      <td>...</td>\n",
       "    </tr>\n",
       "    <tr>\n",
       "      <th>214990</th>\n",
       "      <td>2022-02-28</td>\n",
       "      <td>False</td>\n",
       "    </tr>\n",
       "    <tr>\n",
       "      <th>214991</th>\n",
       "      <td>2022-02-28</td>\n",
       "      <td>True</td>\n",
       "    </tr>\n",
       "    <tr>\n",
       "      <th>214992</th>\n",
       "      <td>2022-02-28</td>\n",
       "      <td>True</td>\n",
       "    </tr>\n",
       "    <tr>\n",
       "      <th>214993</th>\n",
       "      <td>2022-02-28</td>\n",
       "      <td>True</td>\n",
       "    </tr>\n",
       "    <tr>\n",
       "      <th>214994</th>\n",
       "      <td>2022-02-28</td>\n",
       "      <td>False</td>\n",
       "    </tr>\n",
       "  </tbody>\n",
       "</table>\n",
       "<p>214995 rows × 2 columns</p>\n",
       "</div>"
      ],
      "text/plain": [
       "       timestamp_updated  voted_up\n",
       "0      2022-06-03             True\n",
       "1      2022-06-03             True\n",
       "2      2022-06-03             True\n",
       "3      2022-06-03             True\n",
       "4      2022-06-03            False\n",
       "...           ...              ...\n",
       "214990 2022-02-28            False\n",
       "214991 2022-02-28             True\n",
       "214992 2022-02-28             True\n",
       "214993 2022-02-28             True\n",
       "214994 2022-02-28            False\n",
       "\n",
       "[214995 rows x 2 columns]"
      ]
     },
     "execution_count": 6,
     "metadata": {},
     "output_type": "execute_result"
    }
   ],
   "source": [
    "df = pd.read_feather(path='./data/ER_reviews.feather')\n",
    "\n",
    "df = df[['timestamp_updated', 'voted_up']]  # keep relevant columns\n",
    "df['timestamp_updated'] = df['timestamp_updated'].dt.floor('d')  # simplify time to day\n",
    "df"
   ]
  },
  {
   "cell_type": "markdown",
   "id": "4b23a7fc",
   "metadata": {},
   "source": [
    "We then group the data by date (specifically, the day the review was last updated) and add some new columns:\n",
    "\n",
    "* **positive:** The number of positive reviews created on that date\n",
    "* **negative:** The number of negative reviews created on that date\n",
    "* **% positive:** The percentage of reviews that are positive on that given day\n",
    "* ***x*DayMA:** A moving average of '% positive' for the past *X* days "
   ]
  },
  {
   "cell_type": "code",
   "execution_count": 7,
   "id": "e2946a7b",
   "metadata": {},
   "outputs": [
    {
     "data": {
      "text/html": [
       "<div>\n",
       "<style scoped>\n",
       "    .dataframe tbody tr th:only-of-type {\n",
       "        vertical-align: middle;\n",
       "    }\n",
       "\n",
       "    .dataframe tbody tr th {\n",
       "        vertical-align: top;\n",
       "    }\n",
       "\n",
       "    .dataframe thead th {\n",
       "        text-align: right;\n",
       "    }\n",
       "</style>\n",
       "<table border=\"1\" class=\"dataframe\">\n",
       "  <thead>\n",
       "    <tr style=\"text-align: right;\">\n",
       "      <th></th>\n",
       "      <th>num_votes</th>\n",
       "      <th>positive</th>\n",
       "      <th>negative</th>\n",
       "      <th>% positive</th>\n",
       "      <th>7DayMA</th>\n",
       "      <th>20DayMA</th>\n",
       "      <th>30DayMA</th>\n",
       "    </tr>\n",
       "    <tr>\n",
       "      <th>timestamp_updated</th>\n",
       "      <th></th>\n",
       "      <th></th>\n",
       "      <th></th>\n",
       "      <th></th>\n",
       "      <th></th>\n",
       "      <th></th>\n",
       "      <th></th>\n",
       "    </tr>\n",
       "  </thead>\n",
       "  <tbody>\n",
       "    <tr>\n",
       "      <th>2022-02-28</th>\n",
       "      <td>4651</td>\n",
       "      <td>4295</td>\n",
       "      <td>356</td>\n",
       "      <td>0.923457</td>\n",
       "      <td>NaN</td>\n",
       "      <td>NaN</td>\n",
       "      <td>NaN</td>\n",
       "    </tr>\n",
       "    <tr>\n",
       "      <th>2022-03-01</th>\n",
       "      <td>7365</td>\n",
       "      <td>6836</td>\n",
       "      <td>529</td>\n",
       "      <td>0.928174</td>\n",
       "      <td>NaN</td>\n",
       "      <td>NaN</td>\n",
       "      <td>NaN</td>\n",
       "    </tr>\n",
       "    <tr>\n",
       "      <th>2022-03-02</th>\n",
       "      <td>8974</td>\n",
       "      <td>8498</td>\n",
       "      <td>476</td>\n",
       "      <td>0.946958</td>\n",
       "      <td>NaN</td>\n",
       "      <td>NaN</td>\n",
       "      <td>NaN</td>\n",
       "    </tr>\n",
       "    <tr>\n",
       "      <th>2022-03-03</th>\n",
       "      <td>6431</td>\n",
       "      <td>5923</td>\n",
       "      <td>508</td>\n",
       "      <td>0.921008</td>\n",
       "      <td>NaN</td>\n",
       "      <td>NaN</td>\n",
       "      <td>NaN</td>\n",
       "    </tr>\n",
       "    <tr>\n",
       "      <th>2022-03-04</th>\n",
       "      <td>6733</td>\n",
       "      <td>6261</td>\n",
       "      <td>472</td>\n",
       "      <td>0.929898</td>\n",
       "      <td>NaN</td>\n",
       "      <td>NaN</td>\n",
       "      <td>NaN</td>\n",
       "    </tr>\n",
       "    <tr>\n",
       "      <th>...</th>\n",
       "      <td>...</td>\n",
       "      <td>...</td>\n",
       "      <td>...</td>\n",
       "      <td>...</td>\n",
       "      <td>...</td>\n",
       "      <td>...</td>\n",
       "      <td>...</td>\n",
       "    </tr>\n",
       "    <tr>\n",
       "      <th>2022-05-30</th>\n",
       "      <td>494</td>\n",
       "      <td>446</td>\n",
       "      <td>48</td>\n",
       "      <td>0.902834</td>\n",
       "      <td>0.904626</td>\n",
       "      <td>0.913197</td>\n",
       "      <td>0.916940</td>\n",
       "    </tr>\n",
       "    <tr>\n",
       "      <th>2022-05-31</th>\n",
       "      <td>443</td>\n",
       "      <td>418</td>\n",
       "      <td>25</td>\n",
       "      <td>0.943567</td>\n",
       "      <td>0.909791</td>\n",
       "      <td>0.914498</td>\n",
       "      <td>0.917982</td>\n",
       "    </tr>\n",
       "    <tr>\n",
       "      <th>2022-06-01</th>\n",
       "      <td>424</td>\n",
       "      <td>384</td>\n",
       "      <td>40</td>\n",
       "      <td>0.905660</td>\n",
       "      <td>0.909330</td>\n",
       "      <td>0.914414</td>\n",
       "      <td>0.917669</td>\n",
       "    </tr>\n",
       "    <tr>\n",
       "      <th>2022-06-02</th>\n",
       "      <td>369</td>\n",
       "      <td>333</td>\n",
       "      <td>36</td>\n",
       "      <td>0.902439</td>\n",
       "      <td>0.909835</td>\n",
       "      <td>0.913336</td>\n",
       "      <td>0.917006</td>\n",
       "    </tr>\n",
       "    <tr>\n",
       "      <th>2022-06-03</th>\n",
       "      <td>341</td>\n",
       "      <td>308</td>\n",
       "      <td>33</td>\n",
       "      <td>0.903226</td>\n",
       "      <td>0.906883</td>\n",
       "      <td>0.912900</td>\n",
       "      <td>0.916190</td>\n",
       "    </tr>\n",
       "  </tbody>\n",
       "</table>\n",
       "<p>96 rows × 7 columns</p>\n",
       "</div>"
      ],
      "text/plain": [
       "            num_votes  positive  negative  % positive    7DayMA   20DayMA  \\\n",
       "timesta...                                                                  \n",
       "2022-02-28       4651      4295       356   0.923457        NaN       NaN   \n",
       "2022-03-01       7365      6836       529   0.928174        NaN       NaN   \n",
       "2022-03-02       8974      8498       476   0.946958        NaN       NaN   \n",
       "2022-03-03       6431      5923       508   0.921008        NaN       NaN   \n",
       "2022-03-04       6733      6261       472   0.929898        NaN       NaN   \n",
       "...               ...       ...       ...        ...        ...       ...   \n",
       "2022-05-30        494       446        48   0.902834   0.904626  0.913197   \n",
       "2022-05-31        443       418        25   0.943567   0.909791  0.914498   \n",
       "2022-06-01        424       384        40   0.905660   0.909330  0.914414   \n",
       "2022-06-02        369       333        36   0.902439   0.909835  0.913336   \n",
       "2022-06-03        341       308        33   0.903226   0.906883  0.912900   \n",
       "\n",
       "             30DayMA  \n",
       "timesta...            \n",
       "2022-02-28       NaN  \n",
       "2022-03-01       NaN  \n",
       "2022-03-02       NaN  \n",
       "2022-03-03       NaN  \n",
       "2022-03-04       NaN  \n",
       "...              ...  \n",
       "2022-05-30  0.916940  \n",
       "2022-05-31  0.917982  \n",
       "2022-06-01  0.917669  \n",
       "2022-06-02  0.917006  \n",
       "2022-06-03  0.916190  \n",
       "\n",
       "[96 rows x 7 columns]"
      ]
     },
     "execution_count": 7,
     "metadata": {},
     "output_type": "execute_result"
    }
   ],
   "source": [
    "df = df.groupby('timestamp_updated').agg(num_votes=('voted_up', 'count'), positive=('voted_up', 'sum'))\n",
    "\n",
    "df['negative'] = df['num_votes'] - df['positive'] # new column with negative review count\n",
    "df['% positive'] = df['positive']/df['num_votes'] # new column with % of reviews that are positive on that date\n",
    "\n",
    "# Moving averages\n",
    "df['7DayMA'] = df['% positive'].rolling(7).mean()\n",
    "df['20DayMA'] = df['% positive'].rolling(20).mean()\n",
    "df['30DayMA'] = df['% positive'].rolling(30).mean()\n",
    "\n",
    "df"
   ]
  },
  {
   "cell_type": "markdown",
   "id": "d2e2ac86",
   "metadata": {},
   "source": [
    "### Plotting the data\n",
    "\n",
    "To plot the data we will need an additional library:"
   ]
  },
  {
   "cell_type": "code",
   "execution_count": 8,
   "id": "9c3f564a",
   "metadata": {},
   "outputs": [],
   "source": [
    "import matplotlib.pyplot as plt"
   ]
  },
  {
   "cell_type": "code",
   "execution_count": 9,
   "id": "f2ed4cbb",
   "metadata": {},
   "outputs": [
    {
     "data": {
      "image/png": "[encoded data removed]",
      "text/plain": [
       "<Figure size 1080x576 with 1 Axes>"
      ]
     },
     "metadata": {
      "needs_background": "light"
     },
     "output_type": "display_data"
    }
   ],
   "source": [
    "# columns to plot\n",
    "to_plot = ['% positive', '7DayMA', '20DayMA', '30DayMA']\n",
    "\n",
    "# plotting\n",
    "plt.figure(figsize=(15, 8))\n",
    "plt.plot(df[to_plot])\n",
    "\n",
    "plt.title(\"Daily % of Reviews Positive for Elden Ring\", fontsize=16)\n",
    "plt.ylabel(\"% positive\", fontsize=14)\n",
    "plt.legend(to_plot, prop={'size': 12})\n",
    "plt.grid()\n",
    "\n",
    "plt.show()"
   ]
  },
  {
   "cell_type": "markdown",
   "id": "4751bbe4",
   "metadata": {},
   "source": [
    "There seems to be a slight downtrend, however I think more data is needed to be able to draw a concrete conclusion.\n",
    "\n",
    "A slight decrease in the percentage of reviews that are positive overtime has a logical explanation though. There is often a lot of hype surrounding a game's release. While things are new and exciting, people may be more inclined to give a positive review."
   ]
  },
  {
   "cell_type": "markdown",
   "id": "fcff0a24",
   "metadata": {},
   "source": [
    "### Looking on a 7 day timeframe"
   ]
  },
  {
   "cell_type": "code",
   "execution_count": 10,
   "id": "42520127",
   "metadata": {},
   "outputs": [],
   "source": [
    "df = pd.read_feather(path='./data/ER_reviews.feather')\n",
    "\n",
    "df = df[['timestamp_updated', 'voted_up']]  # keep relevant columns\n",
    "df['timestamp_updated'] = df['timestamp_updated'].dt.to_period('W').dt.start_time  # convert timestamp to first day of week\n",
    "\n",
    "# group and add new columns\n",
    "df = df.groupby('timestamp_updated').agg(num_votes=('voted_up', 'count'), positive=('voted_up', 'sum'))\n",
    "df['negative'] = df['num_votes'] - df['positive']\n",
    "df['% positive'] = df['positive']/df['num_votes']"
   ]
  },
  {
   "cell_type": "code",
   "execution_count": 11,
   "id": "90581fae",
   "metadata": {},
   "outputs": [
    {
     "data": {
      "image/png": "[encoded data removed]",
      "text/plain": [
       "<Figure size 1080x576 with 1 Axes>"
      ]
     },
     "metadata": {
      "needs_background": "light"
     },
     "output_type": "display_data"
    }
   ],
   "source": [
    "# plotting\n",
    "plt.figure(figsize=(15, 8))\n",
    "plt.plot(df['% positive'])\n",
    "\n",
    "plt.title(\"Weekly % of Reviews Positive for Elden Ring\", fontsize=16)\n",
    "plt.ylabel(\"% positive\", fontsize=14)\n",
    "plt.grid()\n",
    "\n",
    "plt.show()"
   ]
  },
  {
   "cell_type": "markdown",
   "id": "a3e0c1b6",
   "metadata": {},
   "source": [
    "Using a 7 day timeframe helps us see a more general long term trend because daily oscillations have less of an impact. I still believe that more data is required though, especially when considering a 7 day timeframe, as there are even fewer data points plotted"
   ]
  },
  {
   "cell_type": "markdown",
   "id": "b728e63d",
   "metadata": {},
   "source": [
    "## Comparing Distribution of positive/negative reviews\n"
   ]
  },
  {
   "cell_type": "code",
   "execution_count": 12,
   "id": "e2994422",
   "metadata": {},
   "outputs": [
    {
     "data": {
      "text/html": [
       "<div>\n",
       "<style scoped>\n",
       "    .dataframe tbody tr th:only-of-type {\n",
       "        vertical-align: middle;\n",
       "    }\n",
       "\n",
       "    .dataframe tbody tr th {\n",
       "        vertical-align: top;\n",
       "    }\n",
       "\n",
       "    .dataframe thead th {\n",
       "        text-align: right;\n",
       "    }\n",
       "</style>\n",
       "<table border=\"1\" class=\"dataframe\">\n",
       "  <thead>\n",
       "    <tr style=\"text-align: right;\">\n",
       "      <th></th>\n",
       "      <th>voted_up</th>\n",
       "      <th>playtime_at_review</th>\n",
       "    </tr>\n",
       "  </thead>\n",
       "  <tbody>\n",
       "    <tr>\n",
       "      <th>0</th>\n",
       "      <td>True</td>\n",
       "      <td>683.08...</td>\n",
       "    </tr>\n",
       "    <tr>\n",
       "      <th>1</th>\n",
       "      <td>True</td>\n",
       "      <td>11.783333</td>\n",
       "    </tr>\n",
       "    <tr>\n",
       "      <th>2</th>\n",
       "      <td>True</td>\n",
       "      <td>32.733333</td>\n",
       "    </tr>\n",
       "    <tr>\n",
       "      <th>3</th>\n",
       "      <td>True</td>\n",
       "      <td>87.316667</td>\n",
       "    </tr>\n",
       "    <tr>\n",
       "      <th>4</th>\n",
       "      <td>False</td>\n",
       "      <td>4.033333</td>\n",
       "    </tr>\n",
       "  </tbody>\n",
       "</table>\n",
       "</div>"
      ],
      "text/plain": [
       "   voted_up  playtime_at_review\n",
       "0      True  683.08...         \n",
       "1      True  11.783333         \n",
       "2      True  32.733333         \n",
       "3      True  87.316667         \n",
       "4     False   4.033333         "
      ]
     },
     "execution_count": 12,
     "metadata": {},
     "output_type": "execute_result"
    }
   ],
   "source": [
    "df = pd.read_feather(path='./data/ER_reviews.feather')\n",
    "df = df[['voted_up', 'playtime_at_review']]\n",
    "df['playtime_at_review'] = df['playtime_at_review']/60 # convert playtime to hours\n",
    "\n",
    "# prepare two dataframes with positive and negative reviews\n",
    "positive_df = df[df['voted_up']]\n",
    "negative_df = df[~df['voted_up']]\n",
    "\n",
    "df.head()"
   ]
  },
  {
   "cell_type": "code",
   "execution_count": 13,
   "id": "8aca3066",
   "metadata": {},
   "outputs": [
    {
     "data": {
      "text/html": [
       "<div>\n",
       "<style scoped>\n",
       "    .dataframe tbody tr th:only-of-type {\n",
       "        vertical-align: middle;\n",
       "    }\n",
       "\n",
       "    .dataframe tbody tr th {\n",
       "        vertical-align: top;\n",
       "    }\n",
       "\n",
       "    .dataframe thead th {\n",
       "        text-align: right;\n",
       "    }\n",
       "</style>\n",
       "<table border=\"1\" class=\"dataframe\">\n",
       "  <thead>\n",
       "    <tr style=\"text-align: right;\">\n",
       "      <th></th>\n",
       "      <th>playtime_at_review</th>\n",
       "    </tr>\n",
       "  </thead>\n",
       "  <tbody>\n",
       "    <tr>\n",
       "      <th>count</th>\n",
       "      <td>200370...</td>\n",
       "    </tr>\n",
       "    <tr>\n",
       "      <th>mean</th>\n",
       "      <td>70.256225</td>\n",
       "    </tr>\n",
       "    <tr>\n",
       "      <th>std</th>\n",
       "      <td>69.535991</td>\n",
       "    </tr>\n",
       "    <tr>\n",
       "      <th>min</th>\n",
       "      <td>0.083333</td>\n",
       "    </tr>\n",
       "    <tr>\n",
       "      <th>25%</th>\n",
       "      <td>23.266667</td>\n",
       "    </tr>\n",
       "    <tr>\n",
       "      <th>50%</th>\n",
       "      <td>51.150000</td>\n",
       "    </tr>\n",
       "    <tr>\n",
       "      <th>75%</th>\n",
       "      <td>97.333333</td>\n",
       "    </tr>\n",
       "    <tr>\n",
       "      <th>max</th>\n",
       "      <td>2151.3...</td>\n",
       "    </tr>\n",
       "  </tbody>\n",
       "</table>\n",
       "</div>"
      ],
      "text/plain": [
       "       playtime_at_review\n",
       "count  200370...         \n",
       "mean   70.256225         \n",
       "std    69.535991         \n",
       "min     0.083333         \n",
       "25%    23.266667         \n",
       "50%    51.150000         \n",
       "75%    97.333333         \n",
       "max    2151.3...         "
      ]
     },
     "execution_count": 13,
     "metadata": {},
     "output_type": "execute_result"
    }
   ],
   "source": [
    "# Summary Statistics for Positive Reviews\n",
    "positive_df.describe() "
   ]
  },
  {
   "cell_type": "code",
   "execution_count": 14,
   "id": "1594cc68",
   "metadata": {},
   "outputs": [
    {
     "data": {
      "text/html": [
       "<div>\n",
       "<style scoped>\n",
       "    .dataframe tbody tr th:only-of-type {\n",
       "        vertical-align: middle;\n",
       "    }\n",
       "\n",
       "    .dataframe tbody tr th {\n",
       "        vertical-align: top;\n",
       "    }\n",
       "\n",
       "    .dataframe thead th {\n",
       "        text-align: right;\n",
       "    }\n",
       "</style>\n",
       "<table border=\"1\" class=\"dataframe\">\n",
       "  <thead>\n",
       "    <tr style=\"text-align: right;\">\n",
       "      <th></th>\n",
       "      <th>playtime_at_review</th>\n",
       "    </tr>\n",
       "  </thead>\n",
       "  <tbody>\n",
       "    <tr>\n",
       "      <th>count</th>\n",
       "      <td>14625....</td>\n",
       "    </tr>\n",
       "    <tr>\n",
       "      <th>mean</th>\n",
       "      <td>50.956554</td>\n",
       "    </tr>\n",
       "    <tr>\n",
       "      <th>std</th>\n",
       "      <td>73.608958</td>\n",
       "    </tr>\n",
       "    <tr>\n",
       "      <th>min</th>\n",
       "      <td>0.083333</td>\n",
       "    </tr>\n",
       "    <tr>\n",
       "      <th>25%</th>\n",
       "      <td>4.033333</td>\n",
       "    </tr>\n",
       "    <tr>\n",
       "      <th>50%</th>\n",
       "      <td>21.800000</td>\n",
       "    </tr>\n",
       "    <tr>\n",
       "      <th>75%</th>\n",
       "      <td>72.566667</td>\n",
       "    </tr>\n",
       "    <tr>\n",
       "      <th>max</th>\n",
       "      <td>1044.8...</td>\n",
       "    </tr>\n",
       "  </tbody>\n",
       "</table>\n",
       "</div>"
      ],
      "text/plain": [
       "       playtime_at_review\n",
       "count  14625....         \n",
       "mean   50.956554         \n",
       "std    73.608958         \n",
       "min     0.083333         \n",
       "25%     4.033333         \n",
       "50%    21.800000         \n",
       "75%    72.566667         \n",
       "max    1044.8...         "
      ]
     },
     "execution_count": 14,
     "metadata": {},
     "output_type": "execute_result"
    }
   ],
   "source": [
    "# Summary Statistics for Negative Reviews\n",
    "negative_df.describe() "
   ]
  },
  {
   "cell_type": "markdown",
   "id": "61076e8e",
   "metadata": {},
   "source": [
    "### Boxplot With Outliers\n",
    "\n",
    "There are a lot of outliers, making it difficult to view the bulk of the data. I have shown it below for completeness however.\n"
   ]
  },
  {
   "cell_type": "code",
   "execution_count": 15,
   "id": "082df1ca",
   "metadata": {},
   "outputs": [
    {
     "data": {
      "image/png": "[encoded data removed]",
      "text/plain": [
       "<Figure size 1080x576 with 1 Axes>"
      ]
     },
     "metadata": {
      "needs_background": "light"
     },
     "output_type": "display_data"
    }
   ],
   "source": [
    "# plotting\n",
    "plt.figure(figsize=(15, 8))\n",
    "plt.boxplot([positive_df['playtime_at_review'], negative_df['playtime_at_review']],\n",
    "            labels=['positive', 'negative'])\n",
    "\n",
    "plt.title(\"Playtime For Positive and Negative Reviewers of Elden Ring\", fontsize=16)\n",
    "plt.ylabel('Playtime (hours)', fontsize=14)\n",
    "plt.xticks(fontsize=14)\n",
    "\n",
    "plt.show()"
   ]
  },
  {
   "cell_type": "markdown",
   "id": "f7a4a1ec",
   "metadata": {},
   "source": [
    "### Boxplot Without Outliers\n",
    "\n",
    "Ignoring the outliers, we can get a clearer view of the data. "
   ]
  },
  {
   "cell_type": "code",
   "execution_count": 16,
   "id": "ad42fa60",
   "metadata": {},
   "outputs": [
    {
     "data": {
      "image/png": "[encoded data removed]",
      "text/plain": [
       "<Figure size 1080x576 with 1 Axes>"
      ]
     },
     "metadata": {
      "needs_background": "light"
     },
     "output_type": "display_data"
    }
   ],
   "source": [
    "# plotting\n",
    "plt.figure(figsize=(15, 8))\n",
    "plt.boxplot([positive_df['playtime_at_review'], negative_df['playtime_at_review']],\n",
    "            labels=['positive', 'negative'],\n",
    "            showfliers=False)\n",
    "\n",
    "plt.title(\"Playtime For Positive and Negative Reviewers of Elden Ring (Without Outliers)\", fontsize=16)\n",
    "plt.ylabel('Playtime (hours)', fontsize=14)\n",
    "plt.xticks(fontsize=14)\n",
    "\n",
    "plt.show()"
   ]
  },
  {
   "cell_type": "markdown",
   "id": "21bcbb76",
   "metadata": {},
   "source": [
    "The median and upper and lower quartiles are greater for the set of players who gave a positive review. This is not too surprising since people who enjoy it are more likely to play for longer. \n",
    "\n",
    "Something that is perhaps a little more interesting though, among those who left a negative review, the 50% of people played for 21.8 hours or more and 25% played for 72.5 or more. This seems like quite a significant amount of time for people who would not recommend the game. Here are a few possible reasons why:\n",
    "\n",
    "* **Sunk cost:** Once a person has spent money on the game (and can't get a refund), they may play it even if they do not enjoy it in an attempt to feel their money has not gone to waste.\n",
    "\n",
    "* **Novelty:** Initially people may view it more favourably as it is new and exciting. Once this initial \"buzz\" wears off though, a person's opinion of it may fall.\n",
    "\n",
    "* **Decreasing quality:** Perhaps the later sections of the game are just poor in quality and it is no more complicated than that. This may be common in games where development is rushed. \n",
    "\n",
    "There are just a few of plenty of feasible explanations. Later on we will see if we can draw any insight from the actual reviews themselves."
   ]
  },
  {
   "cell_type": "markdown",
   "id": "0a36d1d8",
   "metadata": {},
   "source": [
    "# Analysing Review Content\n",
    "\n",
    "In this section we will be focussed on analysing the differences in words present between positive and negative reviews. To do this first we will import some new tools we are going to need"
   ]
  },
  {
   "cell_type": "code",
   "execution_count": 17,
   "id": "bfc29abb",
   "metadata": {},
   "outputs": [],
   "source": [
    "import nltk\n",
    "from nltk.tokenize import word_tokenize"
   ]
  },
  {
   "cell_type": "markdown",
   "id": "61545163",
   "metadata": {},
   "source": [
    "Additional packages are required for some of the tools we will make use of later on.\n",
    "These commands must be run before the upcoming code, otherwise it will fail.\n",
    "\n",
    "```\n",
    "nltk.download('stopwords')\n",
    "nltk.download('punkt')\n",
    "nltk.download('wordnet')\n",
    "nltk.download('omw-1.4')\n",
    "nltk.download('averaged_perceptron_tagger')\n",
    "nltk.download('vader_lexicon')\n",
    "```"
   ]
  },
  {
   "cell_type": "markdown",
   "id": "b2c15d65",
   "metadata": {},
   "source": [
    "One of the things we just downloaded are \"stop words\". These are words to be filtered out of text as they don't provide any value when analysing it. A couple of common examples of these include \"I\" or \"the\"."
   ]
  },
  {
   "cell_type": "code",
   "execution_count": 18,
   "id": "0943e951",
   "metadata": {},
   "outputs": [],
   "source": [
    "from nltk.corpus import stopwords\n",
    "stop_words = set(stopwords.words('english'))"
   ]
  },
  {
   "cell_type": "markdown",
   "id": "dc9b12a4",
   "metadata": {},
   "source": [
    "### Word Counts For a Series of Reviews\n",
    "Here we have a function which filters out stop words, punctuation and numbers to increase the amount of relevant data we receive.\n",
    "\n",
    "Input:\n",
    "* **series** : A Pandas Series of review strings\n",
    "* **stop_words**: A set of \"stop words\" to be filtered out\n",
    "\n",
    "Return:\n",
    "* An nltk FreqDist Object "
   ]
  },
  {
   "cell_type": "code",
   "execution_count": 19,
   "id": "c7744a2c",
   "metadata": {},
   "outputs": [],
   "source": [
    "def raw_frequency_count(series, stop_words):\n",
    "    counter = nltk.FreqDist()\n",
    "    for r in series:\n",
    "        word_list = [w.casefold() for w in word_tokenize(r) if w.casefold() not in stop_words]  # remove stopwords\n",
    "        word_list = [w for w in word_list if w.isalpha()]  # keep only words made of letters\n",
    "        counter.update(word_list)\n",
    "    return counter"
   ]
  },
  {
   "cell_type": "code",
   "execution_count": 20,
   "id": "0ecade13",
   "metadata": {},
   "outputs": [],
   "source": [
    "# setup DataFrames to use\n",
    "df = pd.read_feather(path='./data/ER_reviews.feather')\n",
    "df = df[['review', 'voted_up']]\n",
    "df = df[df['review'].str.len() != 0]  # remove blank review entries\n",
    "\n",
    "# split the reviews by positive/negative\n",
    "positive_df = df[df['voted_up']]\n",
    "negative_df = df[~df['voted_up']]"
   ]
  },
  {
   "cell_type": "code",
   "execution_count": 21,
   "id": "e67a79cb",
   "metadata": {},
   "outputs": [],
   "source": [
    "# obtain the word frequencies\n",
    "pos_freq_test = raw_frequency_count(positive_df.loc[:1000, 'review'], stop_words)\n",
    "neg_freq_test = raw_frequency_count(negative_df.loc[:1000, 'review'], stop_words)"
   ]
  },
  {
   "cell_type": "code",
   "execution_count": 22,
   "id": "a38b3e14",
   "metadata": {},
   "outputs": [
    {
     "data": {
      "text/plain": [
       "[('game', 626),\n",
       " ('good', 182),\n",
       " ('souls', 124),\n",
       " ('games', 109),\n",
       " ('like', 109),\n",
       " ('one', 97),\n",
       " ('fun', 93),\n",
       " ('world', 84),\n",
       " ('best', 74),\n",
       " ('get', 74)]"
      ]
     },
     "execution_count": 22,
     "metadata": {},
     "output_type": "execute_result"
    }
   ],
   "source": [
    "pos_freq_test.most_common(10)"
   ]
  },
  {
   "cell_type": "code",
   "execution_count": 23,
   "id": "8aa10ad9",
   "metadata": {},
   "outputs": [
    {
     "data": {
      "text/plain": [
       "[('game', 626),\n",
       " ('good', 182),\n",
       " ('souls', 124),\n",
       " ('games', 109),\n",
       " ('like', 109),\n",
       " ('one', 97),\n",
       " ('fun', 93),\n",
       " ('world', 84),\n",
       " ('best', 74),\n",
       " ('get', 74)]"
      ]
     },
     "execution_count": 23,
     "metadata": {},
     "output_type": "execute_result"
    }
   ],
   "source": [
    "pos_freq_test.most_common(10)"
   ]
  },
  {
   "cell_type": "markdown",
   "id": "99f1d20a",
   "metadata": {},
   "source": [
    "These frequency counts can be improved on depending on what we want to use them for. Here are some potential issues:\n",
    "\n",
    "* There are repeated words in different forms. e.g. \"game\" and \"games\"\n",
    "\n",
    "* Some words depend on context. e.g. \"like\" can be used positively or negatively, \"I like\" VS \"I do not like\" \n",
    "\n",
    "* Some words may not be useful for what you are investigating\n",
    "\n",
    "We will try to address each of these problems\n"
   ]
  },
  {
   "cell_type": "markdown",
   "id": "7807a0ca",
   "metadata": {},
   "source": [
    "## Lemmatizing words\n",
    "This is one way of reducing repeated words in different forms. I have modified our function from earlier to lemmatize each word before counting it. \n",
    "\n",
    "The function also now accepts a list of words not to lemmatize because in some cases, it doesn't make sense to. For example, 'Souls' is a genre of game (i.e. similar to the video game \"Dark Souls\") so reducing it to soul is not useful here."
   ]
  },
  {
   "cell_type": "code",
   "execution_count": 24,
   "id": "007735bb",
   "metadata": {},
   "outputs": [],
   "source": [
    "from nltk.stem import WordNetLemmatizer"
   ]
  },
  {
   "cell_type": "code",
   "execution_count": 25,
   "id": "743398b4",
   "metadata": {},
   "outputs": [],
   "source": [
    "def lem_frequency_count(series, stop_words, do_not_lem=[]):\n",
    "    counter = nltk.FreqDist()\n",
    "    wnl = WordNetLemmatizer()\n",
    "    for r in series:\n",
    "        word_list = [w.casefold() for w in word_tokenize(r) if w.casefold() not in stop_words]  # remove stopwords\n",
    "        word_list = [w for w in word_list if w.isalpha()]  # keep only words made of letters\n",
    "        word_list = [wnl.lemmatize(w) if w not in do_not_lem else w for w in word_list] # lemmatize\n",
    "        counter.update(word_list)\n",
    "    return counter"
   ]
  },
  {
   "cell_type": "code",
   "execution_count": 26,
   "id": "00266362",
   "metadata": {},
   "outputs": [],
   "source": [
    "do_not_lem = ['souls', 'boss']\n",
    "\n",
    "pos_freq_test = lem_frequency_count(positive_df.loc[:1000, 'review'], stop_words, do_not_lem)\n",
    "neg_freq_test = lem_frequency_count(negative_df.loc[:1000, 'review'], stop_words, do_not_lem)"
   ]
  },
  {
   "cell_type": "code",
   "execution_count": 27,
   "id": "7d50fcc7",
   "metadata": {},
   "outputs": [
    {
     "data": {
      "text/plain": [
       "[('game', 735),\n",
       " ('good', 182),\n",
       " ('souls', 124),\n",
       " ('like', 111),\n",
       " ('one', 100),\n",
       " ('fun', 93),\n",
       " ('boss', 89),\n",
       " ('world', 88),\n",
       " ('get', 79),\n",
       " ('time', 78)]"
      ]
     },
     "execution_count": 27,
     "metadata": {},
     "output_type": "execute_result"
    }
   ],
   "source": [
    "pos_freq_test.most_common(10)"
   ]
  },
  {
   "cell_type": "code",
   "execution_count": 28,
   "id": "75165f41",
   "metadata": {
    "scrolled": false
   },
   "outputs": [
    {
     "data": {
      "text/plain": [
       "[('game', 205),\n",
       " ('like', 58),\n",
       " ('get', 35),\n",
       " ('boss', 35),\n",
       " ('time', 34),\n",
       " ('even', 29),\n",
       " ('would', 25),\n",
       " ('one', 22),\n",
       " ('souls', 21),\n",
       " ('make', 21)]"
      ]
     },
     "execution_count": 28,
     "metadata": {},
     "output_type": "execute_result"
    }
   ],
   "source": [
    "neg_freq_test.most_common(10)"
   ]
  },
  {
   "cell_type": "markdown",
   "id": "6570760c",
   "metadata": {},
   "source": [
    "This has cleaned up our results a little; we no longer see 'game' and 'games' both appearing in the list. There are many different options for lemmatization, we may still find some repeated words however our new function should be sufficient. "
   ]
  },
  {
   "cell_type": "markdown",
   "id": "b458ccb6",
   "metadata": {},
   "source": [
    "## Comparing Word Counts\n",
    "Since we have a lot of reviews, calculating word counts can take time so I will load the data obtained when the code is run from a file instead. The following demonstrates how to obtain and save the data:"
   ]
  },
  {
   "cell_type": "code",
   "execution_count": 29,
   "id": "8f9d0a9b",
   "metadata": {},
   "outputs": [],
   "source": [
    "# EXAMPLE USE\n",
    "example_counts = lem_frequency_count(positive_df.loc[:10, 'review'], stop_words, do_not_lem)\n",
    "example_counts = list(example_counts.items())\n",
    "example_df = pd.DataFrame(example_counts, columns=['word', 'count'])\n",
    "example_df.to_feather(path='./data/Example/example_counts.feather')"
   ]
  },
  {
   "cell_type": "code",
   "execution_count": 30,
   "id": "3c80a07d",
   "metadata": {},
   "outputs": [],
   "source": [
    "# Load in word count data from file\n",
    "df_pos_counts = pd.read_feather(path='./data/ER_pos_counts.feather')\n",
    "df_neg_counts = pd.read_feather(path='./data/ER_neg_counts.feather')\n",
    "\n",
    "# Sort so the most frequent words appear first\n",
    "df_pos_counts = df_pos_counts.sort_values(by='count', ascending=False)\n",
    "df_neg_counts = df_neg_counts.sort_values(by='count', ascending=False)"
   ]
  },
  {
   "cell_type": "code",
   "execution_count": 31,
   "id": "cb933447",
   "metadata": {
    "scrolled": false
   },
   "outputs": [
    {
     "data": {
      "image/png": "[encoded data removed]",
      "text/plain": [
       "<Figure size 1080x576 with 1 Axes>"
      ]
     },
     "metadata": {
      "needs_background": "light"
     },
     "output_type": "display_data"
    }
   ],
   "source": [
    "# Plot bar chart for positive counts\n",
    "plt.figure(figsize=(15, 8))\n",
    "plt.bar(df_pos_counts['word'].iloc[:20], df_pos_counts['count'].iloc[:20])\n",
    "plt.title('Positive Word Counts', fontsize=16)\n",
    "plt.show()"
   ]
  },
  {
   "cell_type": "code",
   "execution_count": 32,
   "id": "430a0d90",
   "metadata": {},
   "outputs": [
    {
     "data": {
      "image/png": "[encoded data removed]",
      "text/plain": [
       "<Figure size 1080x576 with 1 Axes>"
      ]
     },
     "metadata": {
      "needs_background": "light"
     },
     "output_type": "display_data"
    }
   ],
   "source": [
    "# Plot negative counts\n",
    "plt.figure(figsize=(15, 8))\n",
    "plt.bar(df_neg_counts['word'][:20], df_neg_counts['count'][:20])\n",
    "plt.title('Negative Word Counts', fontsize=16)\n",
    "plt.show()"
   ]
  },
  {
   "cell_type": "markdown",
   "id": "d3c173e2",
   "metadata": {},
   "source": [
    "# Bigram Counts\n",
    "\n",
    "We can also look at the most frequent combinations of consecutive words; \"bigrams\" are pairs of words. This is one potential way to address the issue where a word's sentiment can depend on context, since we see some of what surrounds it. \n",
    "\n",
    "Here is a function to obtain the bigram counts of our reviews. The inputs and outputs are the same as before but this time we receive a nltk FreqDist object containing bigrams instead of words."
   ]
  },
  {
   "cell_type": "code",
   "execution_count": 33,
   "id": "893f9942",
   "metadata": {},
   "outputs": [],
   "source": [
    "def bigram_count(series, stop_words):\n",
    "    counter = nltk.FreqDist()\n",
    "    for r in series:\n",
    "        word_list = [w.casefold() for w in word_tokenize(r) if w.casefold() not in stop_words]  # remove stopwords\n",
    "        word_list = [w for w in word_list if w.isalpha()]  # keep only words made of letters\n",
    "        bgs = nltk.bigrams(word_list)  # convert word_list to bigrams\n",
    "        counter.update(bgs)\n",
    "    return counter"
   ]
  },
  {
   "cell_type": "code",
   "execution_count": 34,
   "id": "77ac39c1",
   "metadata": {},
   "outputs": [],
   "source": [
    "# EXAMPLE USE\n",
    "example_bgs = bigram_count(positive_df.loc[:5, 'review'], stop_words)\n",
    "example_bgs = list(example_bgs.items())\n",
    "example_df = pd.DataFrame(example_bgs, columns=['bigram', 'count'])\n",
    "example_df.to_feather(path='./data/example/example_bigrams.feather')"
   ]
  },
  {
   "cell_type": "code",
   "execution_count": 35,
   "id": "c1a06bbb",
   "metadata": {},
   "outputs": [
    {
     "name": "stdout",
     "output_type": "stream",
     "text": [
      "          bigram  count      label\n",
      "121    [elden...  19131  elden ...\n",
      "20     [open,...  16729  open w...\n",
      "445    [dark,...  16236  dark s...\n",
      "1      [souls...  14591  souls ...\n",
      "27     [best,...  12395  best game\n",
      "...          ...    ...        ...\n",
      "12109  [amazi...    168  amazin...\n",
      "2111   [there...    168  theref...\n",
      "7013   [atten...    168  attent...\n",
      "12457  [nothi...    167  nothin...\n",
      "2434   [watch...    167  watch ...\n",
      "\n",
      "[1000 rows x 3 columns]\n"
     ]
    }
   ],
   "source": [
    "# Load in bigram counts from file\n",
    "pos_bgs_df = pd.read_feather(path='./data/ER_pos_bigrams.feather')\n",
    "neg_bgs_df = pd.read_feather(path='./data/ER_neg_bigrams.feather')\n",
    "\n",
    "# Sort so the most frequent bigrams appear first\n",
    "pos_bgs_df = pos_bgs_df.sort_values(by='count', ascending=False)\n",
    "neg_bgs_df = neg_bgs_df.sort_values(by='count', ascending=False)\n",
    "\n",
    "# Shorten the DataFrames to save time\n",
    "pos_bgs_df = pos_bgs_df.iloc[:1000]\n",
    "neg_bgs_df = neg_bgs_df.iloc[:1000]\n",
    "\n",
    "# Create a label column \n",
    "pos_bgs_df['label'] = pos_bgs_df['bigram'].apply(lambda x: \" \".join(x))\n",
    "neg_bgs_df['label'] = neg_bgs_df['bigram'].apply(lambda x: \" \".join(x))\n",
    "\n",
    "print(pos_bgs_df)"
   ]
  },
  {
   "cell_type": "code",
   "execution_count": 36,
   "id": "37e8d73e",
   "metadata": {},
   "outputs": [
    {
     "data": {
      "image/png": "[encoded data removed]",
      "text/plain": [
       "<Figure size 1080x576 with 1 Axes>"
      ]
     },
     "metadata": {
      "needs_background": "light"
     },
     "output_type": "display_data"
    }
   ],
   "source": [
    "# Plot bar chart for positive bigram counts\n",
    "plt.figure(figsize=(15, 8))\n",
    "plt.bar(pos_bgs_df['label'].iloc[:20], pos_bgs_df['count'].iloc[:20])\n",
    "\n",
    "plt.title('Positive Bigram Counts')\n",
    "plt.xticks(rotation=40, fontsize=16)\n",
    "\n",
    "plt.show()"
   ]
  },
  {
   "cell_type": "code",
   "execution_count": 37,
   "id": "9155ec83",
   "metadata": {},
   "outputs": [
    {
     "data": {
      "image/png": "[encoded data removed]",
      "text/plain": [
       "<Figure size 1080x576 with 1 Axes>"
      ]
     },
     "metadata": {
      "needs_background": "light"
     },
     "output_type": "display_data"
    }
   ],
   "source": [
    "# Plot bar chart for negative bigram counts\n",
    "plt.figure(figsize=(15, 8))\n",
    "plt.bar(neg_bgs_df['label'].iloc[:20], neg_bgs_df['count'].iloc[:20])\n",
    "\n",
    "plt.title('Negative Bigram Counts')\n",
    "plt.xticks(rotation=40, fontsize=16)\n",
    "\n",
    "plt.show()"
   ]
  },
  {
   "cell_type": "markdown",
   "id": "c4d5d406",
   "metadata": {},
   "source": [
    "Analysing frequency counts of bigrams as opposed to just words can bring to light things we may otherwise miss. For example, there a few clear leads as to the cause of the negative reviews. We see bigrams such as \"performance issue\" and \"connection error\" which are specific problems that could be investigated in more detail."
   ]
  },
  {
   "cell_type": "markdown",
   "id": "25918c5c",
   "metadata": {},
   "source": [
    "# Sentiment Analysis\n",
    "\n",
    "First we will test the accuracy of nltk's vader classifier on our reviews"
   ]
  },
  {
   "cell_type": "code",
   "execution_count": 38,
   "id": "55ad7060",
   "metadata": {},
   "outputs": [],
   "source": [
    "from nltk.sentiment import SentimentIntensityAnalyzer "
   ]
  },
  {
   "cell_type": "code",
   "execution_count": 39,
   "id": "404e8849",
   "metadata": {},
   "outputs": [],
   "source": [
    "# Example of how the full sentiment data was produced\n",
    "df_sent_example = pd.read_feather(path='./data/ER_reviews.feather')\n",
    "df_sent_example = df_sent_example.loc[:10,:]\n",
    "\n",
    "sia = SentimentIntensityAnalyzer()\n",
    "\n",
    "# creates a dictionary of vader scores for each row\n",
    "sia_scores = df_sent_example['review'].apply(lambda x: sia.polarity_scores(x))\n",
    "\n",
    "# create columns with the individual scores\n",
    "df_sent_example['vader_neg'] = sia_scores.apply(lambda x: x['neg'])\n",
    "df_sent_example['vader_neu'] = sia_scores.apply(lambda x: x['neu'])\n",
    "df_sent_example['vader_pos'] = sia_scores.apply(lambda x: x['pos'])\n",
    "df_sent_example['vader_compound'] = sia_scores.apply(lambda x: x['compound'])\n",
    "\n",
    "df_sent_example.to_feather(path='./data/example/example_sentiment.feather')"
   ]
  },
  {
   "cell_type": "markdown",
   "id": "ff877a56",
   "metadata": {},
   "source": [
    "Here we have a simple function to help determine if the classification is correct.\n",
    "\n",
    "If the classification is correct, it will return a value which matches that of the 'voted_up' column. We can compare the two columns to find how accurate the Vader Classifier is for our dataset."
   ]
  },
  {
   "cell_type": "code",
   "execution_count": 40,
   "id": "cd303997",
   "metadata": {},
   "outputs": [],
   "source": [
    "def classification(score):\n",
    "    if score != 0: return score > 0"
   ]
  },
  {
   "cell_type": "code",
   "execution_count": 41,
   "id": "624f28c4",
   "metadata": {},
   "outputs": [
    {
     "data": {
      "text/plain": [
       "0.6191492825414544"
      ]
     },
     "execution_count": 41,
     "metadata": {},
     "output_type": "execute_result"
    }
   ],
   "source": [
    "df_sent = pd.read_feather('./data/ER_sentiment.feather')\n",
    "\n",
    "# calculates the percentage of reviews where the classification matches whether it is actually positive/negative\n",
    "sum(df_sent['vader_compound'].apply(classification) == df_sent['voted_up'])/len(df_sent)"
   ]
  },
  {
   "cell_type": "markdown",
   "id": "3a8f0951",
   "metadata": {},
   "source": [
    "Here we see that the Vader Classifier is approximately 61.9% accurate over our whole dataset. Here are a few potential explanations for this somewhat poor performance:\n",
    "\n",
    "* 1) The presence of joke reviews which aren't intended to give a serious critique of the game\n",
    "\n",
    "* 2) Reviews could be too short for the classifier to decipher the sentiment"
   ]
  },
  {
   "cell_type": "markdown",
   "id": "b6a40222",
   "metadata": {},
   "source": [
    "### Classifying \"Helpful\" Reviews\n",
    "Let's see if the classifier is more accurate for reviews which have been marked as helpful by the community. We sort the reviews by \"votes_up\" (how many people have voted a review as helpful) and then take the 20,000 reviews with the highest values."
   ]
  },
  {
   "cell_type": "code",
   "execution_count": 42,
   "id": "2c052664",
   "metadata": {},
   "outputs": [
    {
     "data": {
      "text/plain": [
       "0.5862"
      ]
     },
     "execution_count": 42,
     "metadata": {},
     "output_type": "execute_result"
    }
   ],
   "source": [
    "df_sent = pd.read_feather('./data/ER_sentiment.feather')\n",
    "df_sent = df_sent.sort_values(by=\"votes_up\",ascending=False)\n",
    "df_sent = df_sent.iloc[:20000]  # 20,000 most helpful reviews\n",
    "\n",
    "# calculates the percentage of reviews where the classification matches whether it is actually positive/negative\n",
    "sum(df_sent['vader_compound'].apply(classification) == df_sent['voted_up'])/len(df_sent)"
   ]
  },
  {
   "cell_type": "markdown",
   "id": "41b9d5f1",
   "metadata": {},
   "source": [
    "When looking at \"helpful\" reviews the classifier performs even more poorly with an accuracy of only approximately 58.6%."
   ]
  },
  {
   "cell_type": "markdown",
   "id": "782821f5",
   "metadata": {},
   "source": [
    "### Classifying Longer Reviews\n",
    "To test the case where the reviews are too short, let's see how it performs on the longest reviews. We sort the reviews by length and then take the first 20,000 reviews."
   ]
  },
  {
   "cell_type": "code",
   "execution_count": 43,
   "id": "fadebbef",
   "metadata": {},
   "outputs": [
    {
     "data": {
      "text/plain": [
       "0.75085"
      ]
     },
     "execution_count": 43,
     "metadata": {},
     "output_type": "execute_result"
    }
   ],
   "source": [
    "df_sent = pd.read_feather('./data/ER_sentiment.feather')\n",
    "df_sent = df_sent.sort_values(by=\"review\", key=lambda x: x.str.len(), ascending=False)\n",
    "df_sent = df_sent.iloc[:20000]  # 20,000 longest reviews\n",
    "\n",
    "# calculates the percentage of reviews where the classification matches whether it is actually positive/negative\n",
    "sum(df_sent['vader_compound'].apply(classification) == df_sent['voted_up'])/len(df_sent)"
   ]
  },
  {
   "cell_type": "markdown",
   "id": "f94c3e64",
   "metadata": {},
   "source": [
    "When looking at the 20,000 longest reviews, the classifier has 75.1% accuracy which is quite a significant improvement. This could suggest that the shorter reviews don't give the classifier enough information for it to work effectively."
   ]
  },
  {
   "cell_type": "markdown",
   "id": "74f98e58",
   "metadata": {},
   "source": [
    "## Building a New Classifier\n",
    "We will now attempt to build a new classifier with higher accuracy. The features we will be using are:\n",
    "* Vader Compound Score\n",
    "* Vader Positive Score\n",
    "* Playtime at review\n",
    "\n",
    "I decided to use playtime as a feature since the values among positive reviewers were generally higher as shown earlier. \n",
    "\n",
    "Here we have a function to set up the reviews for use in a classifier. It returns a list of tuples containing two things: a dictionary with the features, and the label."
   ]
  },
  {
   "cell_type": "code",
   "execution_count": 44,
   "id": "367703ff",
   "metadata": {},
   "outputs": [],
   "source": [
    "def extract_features(df):\n",
    "    feature_list = []\n",
    "    classification_dict = {True: \"pos\",\n",
    "                           False: \"neg\"}\n",
    "\n",
    "    for row in df.itertuples():\n",
    "        features = {\"vader_compound\": row.vader_compound,\n",
    "                    \"vader_positive\": row.vader_pos,\n",
    "                    \"playtime\": row.playtime_at_review}\n",
    "        \n",
    "        classification = classification_dict[row.voted_up]\n",
    "        \n",
    "        feature_list.append((features, classification))\n",
    "        \n",
    "    return feature_list"
   ]
  },
  {
   "cell_type": "code",
   "execution_count": 45,
   "id": "870cf989",
   "metadata": {},
   "outputs": [],
   "source": [
    "# prepare features\n",
    "df = pd.read_feather('./data/ER_sentiment.feather')\n",
    "features = extract_features(df)"
   ]
  },
  {
   "cell_type": "code",
   "execution_count": 46,
   "id": "e61511f3",
   "metadata": {},
   "outputs": [
    {
     "data": {
      "text/plain": [
       "[({'vader_compound': 0.5719, 'vader_positive': 0.381, 'playtime': 40985},\n",
       "  'pos'),\n",
       " ({'vader_compound': 0.5396, 'vader_positive': 0.205, 'playtime': 707}, 'pos')]"
      ]
     },
     "execution_count": 46,
     "metadata": {},
     "output_type": "execute_result"
    }
   ],
   "source": [
    "# Show the layout of features\n",
    "features[:2]"
   ]
  },
  {
   "cell_type": "markdown",
   "id": "820efd22",
   "metadata": {},
   "source": [
    "To prevent training our classifier with only the most recent reviews, we use `shuffle` to randomize the ordering"
   ]
  },
  {
   "cell_type": "code",
   "execution_count": 47,
   "id": "8e3642a9",
   "metadata": {},
   "outputs": [],
   "source": [
    "from random import shuffle"
   ]
  },
  {
   "cell_type": "code",
   "execution_count": 48,
   "id": "1f0df45e",
   "metadata": {},
   "outputs": [
    {
     "data": {
      "text/plain": [
       "0.9118867327764237"
      ]
     },
     "execution_count": 48,
     "metadata": {},
     "output_type": "execute_result"
    }
   ],
   "source": [
    "# We will use 1/4 of our data to train, and the rest to test how accurate it is\n",
    "shuffle(features)\n",
    "\n",
    "n_train = len(features)//4\n",
    "\n",
    "train_set, test_set = features[:n_train], features[n_train:]\n",
    "\n",
    "classifier = nltk.NaiveBayesClassifier.train(train_set)\n",
    "\n",
    "nltk.classify.accuracy(classifier, test_set)"
   ]
  },
  {
   "cell_type": "code",
   "execution_count": 49,
   "id": "2594eec7",
   "metadata": {},
   "outputs": [
    {
     "data": {
      "text/plain": [
       "0.9117523633514629"
      ]
     },
     "execution_count": 49,
     "metadata": {},
     "output_type": "execute_result"
    }
   ],
   "source": [
    "# To verify this result is consistent we can take the mean of several run throughs\n",
    "n_repeats = 3\n",
    "acc_list = np.zeros(n_repeats)\n",
    "n_train = len(features)//4\n",
    "\n",
    "for i in range(n_repeats):\n",
    "    shuffle(features)\n",
    "    classifier = nltk.NaiveBayesClassifier.train(features[:n_train])\n",
    "    acc_list[i] = nltk.classify.accuracy(classifier, features[n_train:])\n",
    "    \n",
    "acc_list.mean()"
   ]
  },
  {
   "cell_type": "markdown",
   "id": "b06f43dd",
   "metadata": {},
   "source": [
    "With 91% accuracy, our classifier seems to have performed well but I don't believe it is as effective as its accuracy would suggest. There is a large imbalance in the number of reviews; approximately 93% of our reviews are positive. This means that if the classifier simply labels everything as 'positive', it will obtain this accuracy of 93%. \n",
    "\n",
    "To counteract this we need to train and test the classifier again, but this time using a roughly even amount of positive and negative reviews. This way, if the classifier were to label everything the same, we would only receive 50% accuracy.\n"
   ]
  },
  {
   "cell_type": "code",
   "execution_count": 50,
   "id": "01d8dff7",
   "metadata": {},
   "outputs": [
    {
     "data": {
      "text/plain": [
       "True     0.931975\n",
       "False    0.068025\n",
       "Name: voted_up, dtype: float64"
      ]
     },
     "execution_count": 50,
     "metadata": {},
     "output_type": "execute_result"
    }
   ],
   "source": [
    "# Shows the split of positive and negative reviews\n",
    "df['voted_up'].value_counts(normalize=True)"
   ]
  },
  {
   "cell_type": "code",
   "execution_count": 51,
   "id": "dc08b386",
   "metadata": {},
   "outputs": [
    {
     "data": {
      "text/plain": [
       "0.7319665066471498"
      ]
     },
     "execution_count": 51,
     "metadata": {},
     "output_type": "execute_result"
    }
   ],
   "source": [
    "# prepare the positive and negative features lists separately\n",
    "pos_features = extract_features(df[df['voted_up']])\n",
    "neg_features = extract_features(df[~df['voted_up']])\n",
    "\n",
    "n_train = len(neg_features)//4\n",
    "\n",
    "# shuffle the features so they aren't chronological\n",
    "shuffle(pos_features)\n",
    "shuffle(neg_features)\n",
    "\n",
    "# prepare the train and test sets.\n",
    "# note that we train with the same number of pos and neg but test with the \n",
    "# remainder which contains far more positive\n",
    "train_set = pos_features[:n_train] + neg_features[:n_train]\n",
    "test_set = pos_features[n_train:] + neg_features[n_train:]\n",
    "\n",
    "classifier = nltk.NaiveBayesClassifier.train(train_set)\n",
    "\n",
    "nltk.classify.accuracy(classifier, test_set)"
   ]
  },
  {
   "cell_type": "markdown",
   "id": "fe10bd17",
   "metadata": {},
   "source": [
    "After making the changes described earlier to the training set, we receive an average accuracy of approximately 73%. The accuracy varies a lot more when training and testing in this way. Perhaps this is due to the fact we are using a much smaller proportion of the reviews in the training set. \n",
    "\n",
    "This is quite a significant improvement on the accuracy we received using the 'vader_compound' score alone, with a jump from 62% to 73%."
   ]
  },
  {
   "cell_type": "code",
   "execution_count": null,
   "id": "bf71fdd7",
   "metadata": {},
   "outputs": [],
   "source": []
  },
  {
   "cell_type": "code",
   "execution_count": null,
   "id": "94fb5e13",
   "metadata": {},
   "outputs": [],
   "source": []
  },
  {
   "cell_type": "code",
   "execution_count": null,
   "id": "79752cbb",
   "metadata": {},
   "outputs": [],
   "source": []
  },
  {
   "cell_type": "code",
   "execution_count": null,
   "id": "f6746c10",
   "metadata": {},
   "outputs": [],
   "source": []
  }
 ],
 "metadata": {
  "kernelspec": {
   "display_name": "Python 3 (ipykernel)",
   "language": "python",
   "name": "python3"
  },
  "language_info": {
   "codemirror_mode": {
    "name": "ipython",
    "version": 3
   },
   "file_extension": ".py",
   "mimetype": "text/x-python",
   "name": "python",
   "nbconvert_exporter": "python",
   "pygments_lexer": "ipython3",
   "version": "3.9.4"
  }
 },
 "nbformat": 4,
 "nbformat_minor": 5
}
